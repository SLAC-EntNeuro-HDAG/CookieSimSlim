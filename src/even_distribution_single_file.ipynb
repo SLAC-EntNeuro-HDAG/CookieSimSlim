{
 "cells": [
  {
   "cell_type": "code",
   "execution_count": 1,
   "id": "ad9c2403-d671-46de-ab2c-a610aa511655",
   "metadata": {},
   "outputs": [],
   "source": [
    "import h5py\n",
    "import numpy as np\n",
    "import os\n",
    "\n",
    "directory = \"/sdf/group/lcls/ds/scratch/jhirschm/MRCO_Sim_Data/CookieSimSlim_data/large_poisson_Nov25_2023_directory/\"\n",
    "# directory = \"/Users/jhirschm/Documents/MRCO/Data/Sample_CookieSlimSim/Data_Distribution_Test/\"\n",
    "# poisson_subset_directory = \"/Users/jhirschm/Documents/MRCO/Data/Sample_CookieSlimSim/Data_Distribution_Test/poisson_subset/\"\n",
    "# even_distribution_directory = \"/Users/jhirschm/Documents/MRCO/Data/Sample_CookieSlimSim/Data_Distribution_Test/even_distribution_subset/\"\n",
    "poisson_subset_directory = \"/sdf/group/lcls/ds/scratch/jhirschm/MRCO_Sim_Data/CookieSimSlim_data/large_poisson_Nov25_2023_directory/poisson_subset/\"\n",
    "even_distribution_directory = \"/sdf/group/lcls/ds/scratch/jhirschm/MRCO_Sim_Data/CookieSimSlim_data/large_poisson_Nov25_2023_directory/even_distribution_subset/\"\n",
    "even_distribution_singleFile_directory = \"/sdf/group/lcls/ds/scratch/jhirschm/MRCO_Sim_Data/CookieSimSlim_data/large_poisson_Nov25_2023_directory/even_distribution_subset/singleFile/\"\n",
    "poisson_distribution_singleFile_directory = \"/sdf/group/lcls/ds/scratch/jhirschm/MRCO_Sim_Data/CookieSimSlim_data/large_poisson_Nov25_2023_directory/poisson_subset/singleFile/\"\n"
   ]
  },
  {
   "cell_type": "code",
   "execution_count": null,
   "id": "ccf27ad6-1c12-4973-968f-b7f91ce6eeb9",
   "metadata": {},
   "outputs": [],
   "source": [
    "data_file_paths = [os.path.join(even_distribution_directory, file) for file in os.listdir(even_distribution_directory) if file.endswith('.h5')]\n",
    "new_file_iterator = 0\n",
    "\n",
    "for file_iterator,file_path in enumerate(data_file_paths):\n",
    "    with h5py.File(file_path, 'r') as h5f:\n",
    "        for j,image_key in enumerate(h5f.keys()):\n",
    "            save_file = os.path.join(even_distribution_singleFile_directory, \"file_%i.h5\" % new_file_iterator)\n",
    "            group_name = f'group_{file_iterator}_{j}'\n",
    "            with h5py.File(save_file, 'a') as current_file:\n",
    "                current_file.copy(h5f[image_key], group_name)\n",
    "            new_file_iterator += 1\n",
    "            "
   ]
  },
  {
   "cell_type": "code",
   "execution_count": null,
   "id": "b9f59650-8e3c-4a7b-a1ab-5049f4fdc14a",
   "metadata": {},
   "outputs": [],
   "source": [
    "data_file_paths = [os.path.join(poisson_subset_directory, file) for file in os.listdir(poisson_subset_directory) if file.endswith('.h5')]\n",
    "new_file_iterator = 0\n",
    "\n",
    "for file_iterator,file_path in enumerate(data_file_paths):\n",
    "    with h5py.File(file_path, 'r') as h5f:\n",
    "        for j,image_key in enumerate(h5f.keys()):\n",
    "            save_file = os.path.join(poisson_distribution_singleFile_directory, \"file_%i.h5\" % new_file_iterator)\n",
    "            group_name = f'group_{file_iterator}_{j}'\n",
    "            with h5py.File(save_file, 'a') as current_file:\n",
    "                current_file.copy(h5f[image_key], group_name)\n",
    "            new_file_iterator += 1"
   ]
  },
  {
   "cell_type": "code",
   "execution_count": null,
   "id": "ae5f0515-9642-4869-bea8-791c4b87f2f9",
   "metadata": {},
   "outputs": [],
   "source": []
  }
 ],
 "metadata": {
  "kernelspec": {
   "display_name": "Python 3",
   "language": "python",
   "name": "python3"
  },
  "language_info": {
   "codemirror_mode": {
    "name": "ipython",
    "version": 3
   },
   "file_extension": ".py",
   "mimetype": "text/x-python",
   "name": "python",
   "nbconvert_exporter": "python",
   "pygments_lexer": "ipython3",
   "version": "3.8.12"
  }
 },
 "nbformat": 4,
 "nbformat_minor": 5
}
